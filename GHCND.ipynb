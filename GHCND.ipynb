{
 "cells": [
  {
   "cell_type": "markdown",
   "metadata": {},
   "source": [
    "# WEATHER STATION PLOTS\n",
    "### CORMAC O'CONNOR"
   ]
  },
  {
   "cell_type": "code",
   "execution_count": 1,
   "metadata": {
    "collapsed": false
   },
   "outputs": [],
   "source": [
    "import numpy as np\n",
    "import pandas as pd\n",
    "import matplotlib.pyplot as plt\n",
    "\n",
    "file_name = \"598354.csv\"\n",
    "\n",
    "data = pd.read_csv(file_name)"
   ]
  },
  {
   "cell_type": "markdown",
   "metadata": {},
   "source": [
    ">This imports csv file and stores it in the variable data"
   ]
  },
  {
   "cell_type": "code",
   "execution_count": 2,
   "metadata": {
    "collapsed": false
   },
   "outputs": [],
   "source": [
    "station1 = data[data['STATION_NAME'] == 'SANTA BARBARA CA US']\n",
    "station2 = data[data['STATION_NAME'] == 'CULVER CITY CA US']\n",
    "station3 = data[data['STATION_NAME'] == 'DEATH VALLEY CA US']"
   ]
  },
  {
   "cell_type": "markdown",
   "metadata": {},
   "source": [
    ">This selects all the data from the station: Santa Barbara\n",
    ">\n",
    ">I chose this station because I am from here"
   ]
  },
  {
   "cell_type": "markdown",
   "metadata": {},
   "source": [
    ">This selects the data from the station: Culver City\n",
    ">\n",
    ">I chose this station because it is the closest one to where I live currently"
   ]
  },
  {
   "cell_type": "markdown",
   "metadata": {},
   "source": [
    ">This selects the data from the station: Death Valley\n",
    ">\n",
    ">I chose this station because I thought it would have interesting temperature readings since it gets extremely hot and cold there"
   ]
  },
  {
   "cell_type": "code",
   "execution_count": 3,
   "metadata": {
    "collapsed": false
   },
   "outputs": [
    {
     "name": "stdout",
     "output_type": "stream",
     "text": [
      "Populating the interactive namespace from numpy and matplotlib\n"
     ]
    },
    {
     "data": {
      "text/plain": [
       "<matplotlib.axes._subplots.AxesSubplot at 0x7f57d2890790>"
      ]
     },
     "execution_count": 3,
     "metadata": {},
     "output_type": "execute_result"
    },
    {
     "data": {
      "image/png": "[encoded data removed]",
      "text/plain": [
       "<matplotlib.figure.Figure at 0x7f57d2887790>"
      ]
     },
     "metadata": {},
     "output_type": "display_data"
    }
   ],
   "source": [
    "prcp1 = station1.loc[2936:2965]\n",
    "\n",
    "%pylab inline\n",
    "prcp1.plot(x='DATE', y='PRCP')"
   ]
  },
  {
   "cell_type": "markdown",
   "metadata": {},
   "source": [
    ">This selects the percipitation data from the Santa Barbara station for the month of June 2015\n",
    ">\n",
    ">I couldn't figure out how to select by date, only by index"
   ]
  },
  {
   "cell_type": "markdown",
   "metadata": {},
   "source": [
    ">This plots the percipitation from the Santa Barbara station for the month of June 2015\n",
    ">\n",
    ">This shows that it only rained for a few days in June, but rained heavily"
   ]
  },
  {
   "cell_type": "code",
   "execution_count": 4,
   "metadata": {
    "collapsed": false
   },
   "outputs": [
    {
     "name": "stdout",
     "output_type": "stream",
     "text": [
      "Populating the interactive namespace from numpy and matplotlib\n"
     ]
    },
    {
     "data": {
      "text/plain": [
       "<matplotlib.axes._subplots.AxesSubplot at 0x7f57d2d2c090>"
      ]
     },
     "execution_count": 4,
     "metadata": {},
     "output_type": "execute_result"
    },
    {
     "data": {
      "image/png": "[encoded data removed]",
      "text/plain": [
       "<matplotlib.figure.Figure at 0x7f57f613dad0>"
      ]
     },
     "metadata": {},
     "output_type": "display_data"
    }
   ],
   "source": [
    "prcp2 = station2.loc[3529:3558]\n",
    "\n",
    "%pylab inline\n",
    "prcp2.plot(x='DATE', y='PRCP')"
   ]
  },
  {
   "cell_type": "markdown",
   "metadata": {},
   "source": [
    ">This selects the percipitation data from the Culver City Station for the month of June 2015"
   ]
  },
  {
   "cell_type": "markdown",
   "metadata": {},
   "source": [
    ">This plots the percipitation from the Culver City station for the month of June 2015\n",
    ">\n",
    ">This shows that there were two short storms in the month of June and not much rain fell"
   ]
  },
  {
   "cell_type": "code",
   "execution_count": 5,
   "metadata": {
    "collapsed": false
   },
   "outputs": [
    {
     "name": "stdout",
     "output_type": "stream",
     "text": [
      "Populating the interactive namespace from numpy and matplotlib\n"
     ]
    },
    {
     "data": {
      "text/plain": [
       "<matplotlib.axes._subplots.AxesSubplot at 0x7f57d2c06f10>"
      ]
     },
     "execution_count": 5,
     "metadata": {},
     "output_type": "execute_result"
    },
    {
     "data": {
      "image/png": "[encoded data removed]",
      "text/plain": [
       "<matplotlib.figure.Figure at 0x7f57d305ad90>"
      ]
     },
     "metadata": {},
     "output_type": "display_data"
    }
   ],
   "source": [
    "prcp3 = station3.loc[492207:492236]\n",
    "\n",
    "%pylab inline\n",
    "prcp3.plot(x='DATE', y='PRCP')"
   ]
  },
  {
   "cell_type": "markdown",
   "metadata": {},
   "source": [
    ">This selects the percipitation data from the Death Valley station for the month of June 2015"
   ]
  },
  {
   "cell_type": "markdown",
   "metadata": {},
   "source": [
    ">This plots the percipitation from the Death Valley station for the month of June 2015\n",
    ">\n",
    ">This shows that it did not rain in Death Valley for the month of June which makes sense considering that it is a desert"
   ]
  },
  {
   "cell_type": "code",
   "execution_count": 6,
   "metadata": {
    "collapsed": false
   },
   "outputs": [],
   "source": [
    "max1 = station1['TMAX'].max()\n",
    "min1 = station1[(station1.TMIN>-9999)]['TMIN'].min()\n",
    "\n",
    "max2 = station2['TMAX'].max()\n",
    "min2 = station2[(station2.TMIN>-9999)]['TMIN'].min()\n",
    "\n",
    "max3 = station3['TMAX'].max()\n",
    "min3 = station3[(station3.TMIN>-9999)]['TMIN'].min()"
   ]
  },
  {
   "cell_type": "markdown",
   "metadata": {},
   "source": [
    ">This gets the max and min temperature for each station I selected earlier"
   ]
  },
  {
   "cell_type": "code",
   "execution_count": 7,
   "metadata": {
    "collapsed": false
   },
   "outputs": [],
   "source": [
    "a = station1.loc[station1['TMAX'].idxmax()]\n",
    "b = station1.loc[station1['TMIN'].idxmin()]\n",
    "c = station2.loc[station2['TMAX'].idxmax()]\n",
    "d = station2.loc[station2['TMIN'].idxmin()]\n",
    "e = station3.loc[station3['TMAX'].idxmax()]\n",
    "f = station3.loc[station3['TMIN'].idxmin()]"
   ]
  },
  {
   "cell_type": "code",
   "execution_count": 8,
   "metadata": {
    "collapsed": false
   },
   "outputs": [
    {
     "data": {
      "text/plain": [
       "[<matplotlib.lines.Line2D at 0x7f57d2a66dd0>]"
      ]
     },
     "execution_count": 8,
     "metadata": {},
     "output_type": "execute_result"
    },
    {
     "data": {
      "image/png": "[encoded data removed]",
      "text/plain": [
       "<matplotlib.figure.Figure at 0x7f57d2b45550>"
      ]
     },
     "metadata": {},
     "output_type": "display_data"
    }
   ],
   "source": [
    "x1 = [a.DATE, b.DATE]\n",
    "y1 = [max1, min1]\n",
    "plot(x1,y1,'ro')"
   ]
  },
  {
   "cell_type": "markdown",
   "metadata": {},
   "source": [
    ">This plots the max and min temperatures for Santa Barbara and shows that the min temperature occured at an earlier date than the max temperature"
   ]
  },
  {
   "cell_type": "code",
   "execution_count": 9,
   "metadata": {
    "collapsed": false
   },
   "outputs": [
    {
     "data": {
      "text/plain": [
       "[<matplotlib.lines.Line2D at 0x7f57d2a1c890>]"
      ]
     },
     "execution_count": 9,
     "metadata": {},
     "output_type": "execute_result"
    },
    {
     "data": {
      "image/png": "[encoded data removed]",
      "text/plain": [
       "<matplotlib.figure.Figure at 0x7f57d2a81d90>"
      ]
     },
     "metadata": {},
     "output_type": "display_data"
    }
   ],
   "source": [
    "x2 = [c.DATE, d.DATE]\n",
    "y2 = [max2, min2]\n",
    "plot(x2,y2,'ro')"
   ]
  },
  {
   "cell_type": "markdown",
   "metadata": {},
   "source": [
    ">This plots the max and min temperatures for Santa Barbara and shows that the max temperature occured at an earlier date than the min temperature"
   ]
  },
  {
   "cell_type": "code",
   "execution_count": 10,
   "metadata": {
    "collapsed": false
   },
   "outputs": [
    {
     "data": {
      "text/plain": [
       "[<matplotlib.lines.Line2D at 0x7f57d2950e50>]"
      ]
     },
     "execution_count": 10,
     "metadata": {},
     "output_type": "execute_result"
    },
    {
     "data": {
      "image/png": "[encoded data removed]",
      "text/plain": [
       "<matplotlib.figure.Figure at 0x7f57d29b4850>"
      ]
     },
     "metadata": {},
     "output_type": "display_data"
    }
   ],
   "source": [
    "x3 = [e.DATE, f.DATE]\n",
    "y3 = [max3, min3]\n",
    "plot(x3,y3,'ro')"
   ]
  },
  {
   "cell_type": "markdown",
   "metadata": {},
   "source": [
    ">This plots the max and min temperatures for Santa Barbara and shows that the max temperature occured at an earlier date than the min temperature"
   ]
  },
  {
   "cell_type": "code",
   "execution_count": null,
   "metadata": {
    "collapsed": true
   },
   "outputs": [],
   "source": []
  }
 ],
 "metadata": {
  "kernelspec": {
   "display_name": "Python 2",
   "language": "python",
   "name": "python2"
  },
  "language_info": {
   "codemirror_mode": {
    "name": "ipython",
    "version": 2
   },
   "file_extension": ".py",
   "mimetype": "text/x-python",
   "name": "python",
   "nbconvert_exporter": "python",
   "pygments_lexer": "ipython2",
   "version": "2.7.9"
  },
  "name": "GHCND.ipynb"
 },
 "nbformat": 4,
 "nbformat_minor": 0
}
